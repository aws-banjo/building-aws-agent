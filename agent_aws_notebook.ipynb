{
 "cells": [
  {
   "cell_type": "markdown",
   "id": "093d7a5f",
   "metadata": {},
   "source": [
    "# Building an AWS Solution Architect Agent with Generative AI\n",
    "\n",
    "This notebook walks through  building an AI-powered Solution Architect Agent dubbed \"Agent AWS\" using HuggingFace Transformers and AWS Sagemaker.\n",
    "\n",
    "The three tools for Agent AWS are:\n",
    "\n",
    "1. **AWS Well-Architected Framework Query Tool**: This tool will allow your agent to interact directly with the AWS Well-Architected Framework, extracting valuable data to inform architectural decisions.\n",
    "2. **Code Generation Tool:** This tool will generate code from AWS CloudFormation scripts to Java code.\n",
    "3. **Diagram Creation Tool:** This tool will create AWS diagrams.\n",
    "\n",
    "\n",
    "**You need to have your own HuggingFace API key to use these tools.** \n",
    "Learn how to get your own free key here https://huggingface.co/docs/hub/security-tokens\n",
    "\n",
    "\n"
   ]
  },
  {
   "cell_type": "markdown",
   "id": "b9d44269",
   "metadata": {},
   "source": [
    "## Agent AWS\n",
    "\n",
    "**Agent AWS** is an automated, AI-powered agent that uses HuggingFace Transformers paired with numerous different foundation models. \n",
    "\n",
    "An “agent” here is a large language model (LLM) equipped with a prompt and access to a specific set of tools. Tools are self-contained functions that perform a singular task that the agent can use when given an instruction.\n",
    "\n",
    "Agent AWS contains a set of tools that allows it to query AWS documentation, generating code, and creating architectural diagrams."
   ]
  },
  {
   "cell_type": "code",
   "execution_count": 1,
   "id": "22676c70",
   "metadata": {},
   "outputs": [
    {
     "name": "stdout",
     "output_type": "stream",
     "text": [
      "Requirement already satisfied: langchain in /opt/miniconda3/lib/python3.11/site-packages (0.0.235)\n",
      "Requirement already satisfied: transformers in /opt/miniconda3/lib/python3.11/site-packages (4.30.2)\n",
      "Requirement already satisfied: sentence_transformers in /opt/miniconda3/lib/python3.11/site-packages (2.2.2)\n",
      "Requirement already satisfied: torch in /opt/miniconda3/lib/python3.11/site-packages (2.0.1)\n",
      "Requirement already satisfied: faiss-cpu in /opt/miniconda3/lib/python3.11/site-packages (1.7.4)\n",
      "Requirement already satisfied: diagrams in /opt/miniconda3/lib/python3.11/site-packages (0.23.3)\n",
      "Requirement already satisfied: graphviz in /opt/miniconda3/lib/python3.11/site-packages (0.20.1)\n",
      "Requirement already satisfied: PyYAML>=5.4.1 in /opt/miniconda3/lib/python3.11/site-packages (from langchain) (5.4.1)\n",
      "Requirement already satisfied: SQLAlchemy<3,>=1.4 in /opt/miniconda3/lib/python3.11/site-packages (from langchain) (2.0.9)\n",
      "Requirement already satisfied: aiohttp<4.0.0,>=3.8.3 in /opt/miniconda3/lib/python3.11/site-packages (from langchain) (3.8.4)\n",
      "Requirement already satisfied: dataclasses-json<0.6.0,>=0.5.7 in /opt/miniconda3/lib/python3.11/site-packages (from langchain) (0.5.7)\n",
      "Requirement already satisfied: langsmith<0.0.8,>=0.0.7 in /opt/miniconda3/lib/python3.11/site-packages (from langchain) (0.0.7)\n",
      "Requirement already satisfied: numexpr<3.0.0,>=2.8.4 in /opt/miniconda3/lib/python3.11/site-packages (from langchain) (2.8.4)\n",
      "Requirement already satisfied: numpy<2,>=1 in /opt/miniconda3/lib/python3.11/site-packages (from langchain) (1.23.5)\n",
      "Requirement already satisfied: openapi-schema-pydantic<2.0,>=1.2 in /opt/miniconda3/lib/python3.11/site-packages (from langchain) (1.2.4)\n",
      "Requirement already satisfied: pydantic<2,>=1 in /opt/miniconda3/lib/python3.11/site-packages (from langchain) (1.10.7)\n",
      "Requirement already satisfied: requests<3,>=2 in /opt/miniconda3/lib/python3.11/site-packages (from langchain) (2.28.1)\n",
      "Requirement already satisfied: tenacity<9.0.0,>=8.1.0 in /opt/miniconda3/lib/python3.11/site-packages (from langchain) (8.2.2)\n",
      "Requirement already satisfied: filelock in /opt/miniconda3/lib/python3.11/site-packages (from transformers) (3.10.2)\n",
      "Requirement already satisfied: huggingface-hub<1.0,>=0.14.1 in /opt/miniconda3/lib/python3.11/site-packages (from transformers) (0.14.1)\n",
      "Requirement already satisfied: packaging>=20.0 in /opt/miniconda3/lib/python3.11/site-packages (from transformers) (23.0)\n",
      "Requirement already satisfied: regex!=2019.12.17 in /opt/miniconda3/lib/python3.11/site-packages (from transformers) (2023.3.23)\n",
      "Requirement already satisfied: tokenizers!=0.11.3,<0.14,>=0.11.1 in /opt/miniconda3/lib/python3.11/site-packages (from transformers) (0.13.3)\n",
      "Requirement already satisfied: safetensors>=0.3.1 in /opt/miniconda3/lib/python3.11/site-packages (from transformers) (0.3.1)\n",
      "Requirement already satisfied: tqdm>=4.27 in /opt/miniconda3/lib/python3.11/site-packages (from transformers) (4.65.0)\n",
      "Requirement already satisfied: torchvision in /opt/miniconda3/lib/python3.11/site-packages (from sentence_transformers) (0.15.2)\n",
      "Requirement already satisfied: scikit-learn in /opt/miniconda3/lib/python3.11/site-packages (from sentence_transformers) (1.2.2)\n",
      "Requirement already satisfied: scipy in /opt/miniconda3/lib/python3.11/site-packages (from sentence_transformers) (1.10.1)\n",
      "Requirement already satisfied: nltk in /opt/miniconda3/lib/python3.11/site-packages (from sentence_transformers) (3.8.1)\n",
      "Requirement already satisfied: sentencepiece in /opt/miniconda3/lib/python3.11/site-packages (from sentence_transformers) (0.1.99)\n",
      "Requirement already satisfied: typing-extensions in /opt/miniconda3/lib/python3.11/site-packages (from torch) (4.5.0)\n",
      "Requirement already satisfied: sympy in /opt/miniconda3/lib/python3.11/site-packages (from torch) (1.11.1)\n",
      "Requirement already satisfied: networkx in /opt/miniconda3/lib/python3.11/site-packages (from torch) (3.0)\n",
      "Requirement already satisfied: jinja2 in /opt/miniconda3/lib/python3.11/site-packages (from torch) (3.1.2)\n",
      "Requirement already satisfied: typed-ast<2.0.0,>=1.5.4 in /opt/miniconda3/lib/python3.11/site-packages (from diagrams) (1.5.4)\n",
      "Requirement already satisfied: attrs>=17.3.0 in /opt/miniconda3/lib/python3.11/site-packages (from aiohttp<4.0.0,>=3.8.3->langchain) (22.2.0)\n",
      "Requirement already satisfied: charset-normalizer<4.0,>=2.0 in /opt/miniconda3/lib/python3.11/site-packages (from aiohttp<4.0.0,>=3.8.3->langchain) (2.0.4)\n",
      "Requirement already satisfied: multidict<7.0,>=4.5 in /opt/miniconda3/lib/python3.11/site-packages (from aiohttp<4.0.0,>=3.8.3->langchain) (6.0.4)\n",
      "Requirement already satisfied: async-timeout<5.0,>=4.0.0a3 in /opt/miniconda3/lib/python3.11/site-packages (from aiohttp<4.0.0,>=3.8.3->langchain) (4.0.2)\n",
      "Requirement already satisfied: yarl<2.0,>=1.0 in /opt/miniconda3/lib/python3.11/site-packages (from aiohttp<4.0.0,>=3.8.3->langchain) (1.8.2)\n",
      "Requirement already satisfied: frozenlist>=1.1.1 in /opt/miniconda3/lib/python3.11/site-packages (from aiohttp<4.0.0,>=3.8.3->langchain) (1.3.3)\n",
      "Requirement already satisfied: aiosignal>=1.1.2 in /opt/miniconda3/lib/python3.11/site-packages (from aiohttp<4.0.0,>=3.8.3->langchain) (1.3.1)\n",
      "Requirement already satisfied: marshmallow<4.0.0,>=3.3.0 in /opt/miniconda3/lib/python3.11/site-packages (from dataclasses-json<0.6.0,>=0.5.7->langchain) (3.19.0)\n",
      "Requirement already satisfied: marshmallow-enum<2.0.0,>=1.5.1 in /opt/miniconda3/lib/python3.11/site-packages (from dataclasses-json<0.6.0,>=0.5.7->langchain) (1.5.1)\n",
      "Requirement already satisfied: typing-inspect>=0.4.0 in /opt/miniconda3/lib/python3.11/site-packages (from dataclasses-json<0.6.0,>=0.5.7->langchain) (0.8.0)\n",
      "Requirement already satisfied: fsspec in /opt/miniconda3/lib/python3.11/site-packages (from huggingface-hub<1.0,>=0.14.1->transformers) (2023.5.0)\n",
      "Requirement already satisfied: MarkupSafe>=2.0 in /opt/miniconda3/lib/python3.11/site-packages (from jinja2->torch) (2.1.2)\n",
      "Requirement already satisfied: idna<4,>=2.5 in /opt/miniconda3/lib/python3.11/site-packages (from requests<3,>=2->langchain) (2.10)\n",
      "Requirement already satisfied: urllib3<1.27,>=1.21.1 in /opt/miniconda3/lib/python3.11/site-packages (from requests<3,>=2->langchain) (1.26.6)\n",
      "Requirement already satisfied: certifi>=2017.4.17 in /opt/miniconda3/lib/python3.11/site-packages (from requests<3,>=2->langchain) (2022.12.7)\n",
      "Requirement already satisfied: greenlet!=0.4.17 in /opt/miniconda3/lib/python3.11/site-packages (from SQLAlchemy<3,>=1.4->langchain) (2.0.2)\n",
      "Requirement already satisfied: click in /opt/miniconda3/lib/python3.11/site-packages (from nltk->sentence_transformers) (8.1.3)\n",
      "Requirement already satisfied: joblib in /opt/miniconda3/lib/python3.11/site-packages (from nltk->sentence_transformers) (1.2.0)\n",
      "Requirement already satisfied: threadpoolctl>=2.0.0 in /opt/miniconda3/lib/python3.11/site-packages (from scikit-learn->sentence_transformers) (3.1.0)\n",
      "Requirement already satisfied: mpmath>=0.19 in /opt/miniconda3/lib/python3.11/site-packages (from sympy->torch) (1.3.0)\n",
      "Requirement already satisfied: pillow!=8.3.*,>=5.3.0 in /opt/miniconda3/lib/python3.11/site-packages (from torchvision->sentence_transformers) (9.4.0)\n",
      "Requirement already satisfied: mypy-extensions>=0.3.0 in /opt/miniconda3/lib/python3.11/site-packages (from typing-inspect>=0.4.0->dataclasses-json<0.6.0,>=0.5.7->langchain) (1.0.0)\n",
      "/bin/bash: apt-get: command not found\n",
      "Done, please continue!!!\n"
     ]
    }
   ],
   "source": [
    "# Prereqs\n",
    "!pip install -U langchain transformers sentence_transformers torch faiss-cpu diagrams graphviz\n",
    "!apt-get update && apt-get install graphviz -y\n",
    "print(\"Done, please continue!!!\")"
   ]
  },
  {
   "cell_type": "code",
   "execution_count": 2,
   "id": "f1853be9",
   "metadata": {},
   "outputs": [],
   "source": [
    "import json\n",
    "import os\n",
    "import subprocess\n",
    "from typing import Dict\n",
    "\n",
    "import requests\n",
    "from langchain import PromptTemplate, SagemakerEndpoint\n",
    "from langchain.chains.question_answering import load_qa_chain\n",
    "from langchain.embeddings import HuggingFaceEmbeddings\n",
    "from langchain.llms.sagemaker_endpoint import LLMContentHandler\n",
    "from langchain.prompts.prompt import PromptTemplate\n",
    "from langchain.vectorstores import FAISS\n",
    "from PIL import Image\n",
    "from transformers import Tool\n",
    "from transformers.tools import HfAgent\n",
    "\n",
    "os.environ[\"TOKENIZERS_PARALLELISM\"] = \"false\"\n",
    "# Learn how to get your own free key here https://huggingface.co/docs/hub/security-tokens\n",
    "HUGGING_FACE_KEY = os.environ[\"HUGGING_FACE_KEY\"] # REPLACE WITH YOUR KEY"
   ]
  },
  {
   "cell_type": "markdown",
   "id": "d7f98409",
   "metadata": {},
   "source": [
    "## Agent Prompt\n",
    "\n",
    "The language model powering the agent is conditioned on a long prompt that the user provides. Using that prompt the model is able to generate words to complete the user’s request. \n",
    "\n",
    "The prompt is structured broadly into two parts.\n",
    "\n",
    "1. **Role:** How the agent should behave, explanation of the concept of tools.\n",
    "2. **Instructions:** Provides examples of tasks and their solutions\n"
   ]
  },
  {
   "cell_type": "code",
   "execution_count": 3,
   "id": "ec7edd98",
   "metadata": {},
   "outputs": [],
   "source": [
    "sa_prompt = \"\"\"\n",
    "You are an expert AWS Certified Solutions Architect. Your role is to help customers understand best practices on building on AWS. You will generate Python commands using available tools to help will customers solve their problem effectively.\n",
    "To assist you, you have access to three tools. Each tool has a description that explains its functionality, the inputs it takes, and the outputs it provides.\n",
    "First, you should explain which tool you'll use to perform the task and why. Then, you'll generate Python code. Python instructions should be simple assignment operations. You can print intermediate results if it's beneficial.\n",
    "\n",
    "Tools:\n",
    "<<all_tools>>\n",
    "\n",
    "Task: \"Help customers understand best practices on building on AWS by using relevant context from the AWS Well-Architected Framework.\"\n",
    "\n",
    "I will use the AWS Well-Architected Framework Query Tool because it provides direct access to AWS Well-Architected Framework to extract information.\n",
    "\n",
    "Answer:\n",
    "```py\n",
    "response = well_architected_tool(query=\"How can I design secure VPCs?\")\n",
    "print(f\"{response}.\")\n",
    "```\n",
    "\n",
    "Task: \"Write a function in Python to upload a file to Amazon S3\"\n",
    "\n",
    "I will use the Code Generation Tool because it can generate code based on the provided requirements.\n",
    "\n",
    "Answer:\n",
    "```py\n",
    "\n",
    "python_code = code_generation_tool(prompt=\"Write a function in Python to upload a file to Amazon S3\")\n",
    "print(f\"{python_code}\")\n",
    "```\n",
    "\n",
    "Task: \"Create a diagram for the following architecture: three EC2 instances connected to an S3 bucket and a RDS database.\"\n",
    "\n",
    "I will use the Diagram Creation Tool because it can create insightful diagrams to represent the given AWS architecture.\n",
    "\n",
    "Answer:\n",
    "\n",
    "```py\n",
    "architecture_diagram = diagram_creation_tool(query=\"Three EC2 instances connected to an S3 bucket and a RDS database.\")\n",
    "```\n",
    "\n",
    "\n",
    "Task: \"<<prompt>>\"\n",
    "\n",
    "I will use the following\n",
    "\"\"\""
   ]
  },
  {
   "cell_type": "markdown",
   "id": "3cc958da",
   "metadata": {},
   "source": [
    "## Tools\n",
    "\n",
    "Now that we have defined our agent prompt, the next step is to create the tools for the agent to use. Creating a tool for our agent begins by establishing a class that inherits from the superclass Tool and the following attributes.\n",
    "\n",
    "* **name:**' This is the name of the tool.\n",
    "* **description:**' This will be used to populate the prompt of the agent.\n",
    "* **inputs and outputs:**' These aid the interpreter in making informed decisions regarding data types. They both consist of a list of possible values which could be text, image, or audio.\n",
    "  * **text:**' This type would be used when the input or output is a string of words, like a question to the tool or an answer from it.\n",
    "  * **image:**' This would be chosen if the input or output is a picture or diagram. For example, if the user wanted to analyze an architectural diagram or if the tool needed to output a diagram to illustrate its answer.\n",
    "  * **audio:**' This type would be selected when the input or output is a sound or speech, which might be useful for voice-based interaction scenarios.\n",
    "* **A call method:**' This contains the inference code.\n",
    "\n"
   ]
  },
  {
   "cell_type": "markdown",
   "id": "c15050f3",
   "metadata": {},
   "source": [
    "### AWS Well-Architected Framework Query Tool\n",
    "This tool will allow your agent to interact directly with the AWS Well-Architected Framework, extracting valuable data to inform architectural decisions.\n",
    "\n",
    "This tool leverages a vector database to deliver relevant answers to user queries.\n",
    "\n",
    "**Resources:**\n",
    "1. https://www.buildon.aws/posts/well-arch-chatbot"
   ]
  },
  {
   "cell_type": "code",
   "execution_count": 4,
   "id": "bae8b47a",
   "metadata": {},
   "outputs": [],
   "source": [
    "QUERY_MODEL = \"tiiuae/falcon-7b-instruct\"\n",
    "# Try other models from https://huggingface.co/spaces/HuggingFaceH4/open_llm_leaderboard\n",
    "\n",
    "class AWSWellArchTool(Tool):\n",
    "    name = \"well_architected_tool\"\n",
    "    description = \"Use this tool for any AWS related question to help customers understand best practices on building on AWS. It will use the relevant context from the AWS Well-Architected Framework to answer the customer's query. The input is the customer's question. The tool returns an answer for the customer using the relevant context.\"\n",
    "    inputs = [\"text\"]\n",
    "    outputs = [\"text\"]\n",
    "\n",
    "    def call_endpoint(self, payload):\n",
    "        headers = {\"Authorization\": f\"Bearer {HUGGING_FACE_KEY}\"}\n",
    "\n",
    "        API_URL = (\n",
    "            f\"https://api-inference.huggingface.co/models/{QUERY_MODEL}\"\n",
    "        )\n",
    "        try:\n",
    "            response = requests.post(API_URL, headers=headers, json=payload)\n",
    "        except Exception as e:\n",
    "            # just try again\n",
    "            time.sleep(5)\n",
    "            response = requests.post(API_URL, headers=headers, json=payload)\n",
    "        return response.json()\n",
    "\n",
    "    def __call__(self, query):\n",
    "        # Find docs\n",
    "        embeddings = HuggingFaceEmbeddings()\n",
    "        vectorstore = FAISS.load_local(\"local_index\", embeddings)\n",
    "        docs = vectorstore.similarity_search(query)\n",
    "        context = \"\"\n",
    "\n",
    "        doc_sources_string = \"\"\n",
    "        for doc in docs:\n",
    "            doc_sources_string += doc.metadata[\"source\"] + \"\\n\"\n",
    "            context += doc.page_content\n",
    "\n",
    "        prompt = f\"\"\"Use the following pieces of context to answer the question at the end.\n",
    "\n",
    "        {context}\n",
    "\n",
    "        Question: {query}\n",
    "        Answer:\"\"\"\n",
    "\n",
    "        output = self.call_endpoint(\n",
    "            {\n",
    "                \"inputs\": prompt,\n",
    "                \"parameters\": {\n",
    "                    \"do_sample\": False,\n",
    "                    \"max_new_tokens\": 500,\n",
    "                    \"return_full_text\": False,\n",
    "                    \"temperature\": 0.01,\n",
    "                },\n",
    "            }\n",
    "        )\n",
    "        generated_text = output[0][\"generated_text\"]\n",
    "        print(generated_text)\n",
    "\n",
    "        resp_json = {\"ans\": str(generated_text), \"docs\": doc_sources_string}\n",
    "        return resp_json"
   ]
  },
  {
   "cell_type": "code",
   "execution_count": 5,
   "id": "a988ef7f",
   "metadata": {},
   "outputs": [
    {
     "name": "stdout",
     "output_type": "stream",
     "text": [
      " To design secure VPCs, you should apply multiple controls with a defense in depth approach for both inbound and outbound traffic, including the use of security groups (stateful inspection firewall), Network ACLs, subnets, and route tables. Within a VPC, you can create subnets in an Availability Zone. Each subnet can have an associated route table that defines routing rules for managing the paths that traffic takes within the subnet. You can define an internet routable subnet by having a route that goes to an internet or NAT gateway attached to the VPC, or through another VPC. You should also consider using a VPN gateway to securely connect to your VPC. Additionally, you should use a combination of security groups and network ACLs to restrict access to your VPC.\n"
     ]
    },
    {
     "data": {
      "text/plain": [
       "{'ans': ' To design secure VPCs, you should apply multiple controls with a defense in depth approach for both inbound and outbound traffic, including the use of security groups (stateful inspection firewall), Network ACLs, subnets, and route tables. Within a VPC, you can create subnets in an Availability Zone. Each subnet can have an associated route table that defines routing rules for managing the paths that traffic takes within the subnet. You can define an internet routable subnet by having a route that goes to an internet or NAT gateway attached to the VPC, or through another VPC. You should also consider using a VPN gateway to securely connect to your VPC. Additionally, you should use a combination of security groups and network ACLs to restrict access to your VPC.',\n",
       " 'docs': 'https://docs.aws.amazon.com/wellarchitected/latest/security-pillar/sec_network_protection_layered.html\\nhttps://docs.aws.amazon.com/wellarchitected/latest/framework/sec_network_protection_layered.html\\nhttps://docs.aws.amazon.com/wellarchitected/latest/framework/rel_planning_network_topology_ip_subnet_allocation.html\\nhttps://docs.aws.amazon.com/wellarchitected/latest/reliability-pillar/rel_planning_network_topology_ip_subnet_allocation.html\\n'}"
      ]
     },
     "execution_count": 5,
     "metadata": {},
     "output_type": "execute_result"
    }
   ],
   "source": [
    "#### Using the Tool\n",
    "query = \"How can I design secure VPCs?\"\n",
    "well_arch_tool = AWSWellArchTool()\n",
    "well_arch_tool(query)"
   ]
  },
  {
   "cell_type": "markdown",
   "id": "41e5a525",
   "metadata": {},
   "source": [
    "### Code Generation Tool\n",
    "This tool will generate code from AWS CloudFormation scripts to Python code.\n",
    "\n",
    "This notebook is using the Starcoder model hosted on HuggingFace.\n",
    "\n",
    "**Resources:**\n",
    "1. https://huggingface.co/bigcode/starcoder"
   ]
  },
  {
   "cell_type": "code",
   "execution_count": 6,
   "id": "274b08f4",
   "metadata": {},
   "outputs": [],
   "source": [
    "CODE_MODEL = \"bigcode/starcoder\"\n",
    "# Try other models from https://huggingface.co/spaces/HuggingFaceH4/open_llm_leaderboard\n",
    "\n",
    "\n",
    "class CodeGenerationTool(Tool):\n",
    "    name = \"code_generation_tool\"\n",
    "    description = \"Use this tool only when you need to generate code based on a customers's request. The input is the customer's question. The tool returns code that the customer can use.\"\n",
    "\n",
    "    inputs = [\"text\"]\n",
    "    outputs = [\"text\"]\n",
    "\n",
    "    def call_endpoint(self, payload):\n",
    "        API_URL = f\"https://api-inference.huggingface.co/models/{CODE_MODEL}\"\n",
    "        headers = {\"Authorization\": f\"Bearer {HUGGING_FACE_KEY}\"}\n",
    "        response = requests.post(API_URL,headers=headers, json=payload)\n",
    "        return response.json()\n",
    "\n",
    "    def __call__(self, prompt):\n",
    "        output = self.call_endpoint(\n",
    "            {\n",
    "                \"inputs\": prompt,\n",
    "                \"parameters\": {\n",
    "                    \"do_sample\": False,\n",
    "                    \"max_new_tokens\": 500,\n",
    "                    \"return_full_text\": False,\n",
    "                    \"temperature\": 0.01,\n",
    "                },\n",
    "            }\n",
    "        )\n",
    "        generated_text = output[0][\"generated_text\"]\n",
    "        # Clean up code\n",
    "        lines = generated_text.split(\"\\n\")\n",
    "        updated_lines = []\n",
    "\n",
    "        for line in lines:\n",
    "            if line == \".\":\n",
    "                line = line.replace(\".\", \"\")\n",
    "            if \"endoftext\" in line:\n",
    "                line = \"\"\n",
    "\n",
    "            updated_lines.append(line)\n",
    "\n",
    "        # Join the updated lines to create the updated code\n",
    "        updated_code = \"\\n\".join(updated_lines)\n",
    "\n",
    "        return updated_code"
   ]
  },
  {
   "cell_type": "code",
   "execution_count": 7,
   "id": "b3ddd5df",
   "metadata": {},
   "outputs": [
    {
     "data": {
      "text/plain": [
       "'\\n\\nimport boto3\\n\\ndef upload_file_to_s3(file_name, bucket, object_name=None):\\n    \"\"\"Upload a file to an S3 bucket\\n\\n    :param file_name: File to upload\\n    :param bucket: Bucket to upload to\\n    :param object_name: S3 object name. If not specified then file_name is used\\n    :return: True if file was uploaded, else False\\n    \"\"\"\\n\\n    # If S3 object_name was not specified, use file_name\\n    if object_name is None:\\n        object_name = file_name\\n\\n    # Upload the file\\n    s3_client = boto3.client(\\'s3\\')\\n    try:\\n        response = s3_client.upload_file(file_name, bucket, object_name)\\n    except ClientError as e:\\n        logging.error(e)\\n        return False\\n    return True\\n'"
      ]
     },
     "execution_count": 7,
     "metadata": {},
     "output_type": "execute_result"
    }
   ],
   "source": [
    "#### Using the Tool\n",
    "query = \"Write a function in Python to upload a file to Amazon S3\"\n",
    "code_gen_tool = CodeGenerationTool()\n",
    "code_gen_tool(query)"
   ]
  },
  {
   "cell_type": "markdown",
   "id": "dae94ee6",
   "metadata": {},
   "source": [
    "### Diagram Creation Tool\n",
    "This tool will create AWS diagrams using the Diagrams library.\n",
    "\n",
    "**Resources:**\n",
    "1. https://github.com/mingrammer/diagrams"
   ]
  },
  {
   "cell_type": "code",
   "execution_count": 8,
   "id": "0e4a84b2",
   "metadata": {},
   "outputs": [],
   "source": [
    "DIAGRAM_MODEL = \"bigcode/starcoder\"\n",
    "# Try other models from https://huggingface.co/spaces/HuggingFaceH4/open_llm_leaderboard\n",
    "\n",
    "\n",
    "class DiagramCreationTool(Tool):\n",
    "    name = \"diagram_creation_tool\"\n",
    "    description = (\"This is a tool that generates diagrams based on a customers's request.\")\n",
    "    inputs = [\"text\"]\n",
    "    outputs = [\"image\"]\n",
    "\n",
    "    def save_and_run_python_code(self,code: str, file_name: str = \"test_diag.py\"):\n",
    "        # Save the code to a file\n",
    "        with open(file_name, \"w\") as file:\n",
    "            file.write(code)\n",
    "\n",
    "        # Run the code using a subprocess\n",
    "        try:\n",
    "            result = subprocess.run(\n",
    "                [\"python\", file_name], capture_output=True, text=True, check=True\n",
    "            )\n",
    "        except subprocess.CalledProcessError as e:\n",
    "            print(\"Error occurred while running the code:\")\n",
    "            print(e.stdout)\n",
    "            print(e.stderr)\n",
    "    \n",
    "    def process_code(self, code):\n",
    "        # Split the code into lines\n",
    "        lines = code.split(\"\\n\")\n",
    "\n",
    "        # Initialize variables to store the updated code and diagram filename\n",
    "        updated_lines = []\n",
    "        diagram_filename = None\n",
    "        inside_diagram_block = False\n",
    "\n",
    "        for line in lines:\n",
    "            \n",
    "            if line == \".\":\n",
    "                line = line.replace(\".\",\"\")\n",
    "            if \"endoftext\" in line:\n",
    "                line = \"\"\n",
    "            if \"# In[\" in line:\n",
    "                line = \"\"\n",
    "\n",
    "            # Check if the line contains \"with Diagram(\"\n",
    "            if \"with Diagram(\" in line:\n",
    "                # Extract the diagram name between \"with Diagram('NAME',\"\n",
    "                diagram_name = (\n",
    "                    line.split(\"with Diagram(\")[1].split(\",\")[0].strip(\"'\").strip('\"')\n",
    "                )\n",
    "\n",
    "                # Convert the diagram name to lowercase, replace spaces with underscores, and add \".png\" extension\n",
    "                diagram_filename = diagram_name.lower().replace(\" \", \"_\") + \".png\"\n",
    "\n",
    "                # Check if the line contains \"filename=\"\n",
    "                if \"filename=\" in line:\n",
    "                    # Extract the filename from the \"filename=\" parameter\n",
    "                    diagram_filename = (\n",
    "                        line.split(\"filename=\")[1].split(\")\")[0].strip(\"'\").strip('\"')\n",
    "                        + \".png\"\n",
    "                    )\n",
    "\n",
    "                inside_diagram_block = True\n",
    "\n",
    "            # Check if the line contains the end of the \"with Diagram:\" block\n",
    "            if inside_diagram_block and line.strip() == \"\":\n",
    "                inside_diagram_block = False\n",
    "\n",
    "            # TODO: not sure if it handles all edge cases...\n",
    "            # Only include lines that are inside the \"with Diagram:\" block or not related to the diagram\n",
    "            if inside_diagram_block or not line.strip().startswith(\"diag.\"):\n",
    "                updated_lines.append(line)\n",
    "\n",
    "        # Join the updated lines to create the updated code\n",
    "        updated_code = \"\\n\".join(updated_lines)\n",
    "\n",
    "        return updated_code, diagram_filename    \n",
    "    \n",
    "    def call_endpoint(self,payload):\n",
    "        headers = {\"Authorization\": f\"Bearer {HUGGING_FACE_KEY}\"}\n",
    "        API_URL = f\"https://api-inference.huggingface.co/models/{DIAGRAM_MODEL}\"\n",
    "        response = requests.post(API_URL,headers=headers, json=payload)\n",
    "        return response.json()    \n",
    "    \n",
    "    def __call__(self,query):\n",
    "        \n",
    "        \n",
    "        query_header= \"Write a function in Python using the Diagrams library to draw\"\n",
    "        \n",
    "        output = self.call_endpoint({\n",
    "            \"inputs\": query_header+query,\n",
    "            \"parameters\": {\"do_sample\": False, \"max_new_tokens\":500, \"return_full_text\": False, \"temperature\":0.01},\n",
    "        })\n",
    "        code = output[0][\"generated_text\"]\n",
    "            \n",
    "        # Clean up hallucinated code\n",
    "        code, file_name = self.process_code(code)\n",
    "        code = code.replace(\"```python\",\"\").replace(\"```\",\"\").replace('\"\"\"',\"\")\n",
    "\n",
    "        try:\n",
    "            # Code to run\n",
    "            self.save_and_run_python_code(code)\n",
    "        except Exception as e:\n",
    "            print(e)\n",
    "            return\n",
    "            \n",
    "        return Image.open(file_name)\n",
    "             "
   ]
  },
  {
   "cell_type": "code",
   "execution_count": 9,
   "id": "a9ef40f9",
   "metadata": {},
   "outputs": [
    {
     "data": {
      "image/png": "[encoded data removed]",
      "text/plain": [
       "<PIL.PngImagePlugin.PngImageFile image mode=RGB size=932x600>"
      ]
     },
     "execution_count": 9,
     "metadata": {},
     "output_type": "execute_result"
    }
   ],
   "source": [
    "query = \"A diagram that shows an s3 bucket connected to an ec2 instance\"\n",
    "diagram_gen_tool = DiagramCreationTool()\n",
    "diagram_gen_tool(query)"
   ]
  },
  {
   "cell_type": "markdown",
   "id": "0be58a79",
   "metadata": {},
   "source": [
    "### Starting the agent\n",
    "\n",
    "To start the agent we select what LLM to use ( Starcoder https://huggingface.co/bigcode/starcoder for this example) our custom prompt, and additional tools. We also delete the default tools so the agent so just uses our custom tools.\n"
   ]
  },
  {
   "cell_type": "code",
   "execution_count": 10,
   "id": "20f0eaf6",
   "metadata": {},
   "outputs": [],
   "source": [
    "# Start Agent\n",
    "BASE_MODEL = \"bigcode/starcoder\"\n",
    "\n",
    "agent = HfAgent(\n",
    "    f\"https://api-inference.huggingface.co/models/{BASE_MODEL}\",\n",
    "    token=HUGGING_FACE_KEY,\n",
    "    run_prompt_template=sa_prompt,\n",
    "    additional_tools=[code_gen_tool, well_arch_tool, diagram_gen_tool],\n",
    ")\n",
    "\n",
    "\n",
    "default_tools = ['document_qa',\n",
    " 'image_captioner',\n",
    " 'image_qa',\n",
    " 'image_segmenter',\n",
    " 'transcriber',\n",
    " 'summarizer',\n",
    " 'text_classifier',\n",
    " 'text_qa',\n",
    " 'text_reader',\n",
    " 'translator',\n",
    " 'image_transformer',\n",
    " 'text_downloader',\n",
    " 'image_generator',\n",
    " 'video_generator',\n",
    "]\n",
    "\n",
    "# Remove default tools\n",
    "for tool in default_tools:\n",
    "    try:\n",
    "        del agent.toolbox[tool]\n",
    "    except:\n",
    "        continue"
   ]
  },
  {
   "cell_type": "code",
   "execution_count": 11,
   "id": "a5a4f535",
   "metadata": {},
   "outputs": [
    {
     "name": "stdout",
     "output_type": "stream",
     "text": [
      "==Explanation from the agent==\n",
      "I will use the following\n",
      "\n",
      "\n",
      "==Code generated by the agent==\n",
      "architecture_diagram = diagram_creation_tool(query=\"A diagram that shows an EC2 Cluster connected to a lambda function\")\n",
      "\n",
      "\n",
      "==Result==\n"
     ]
    },
    {
     "data": {
      "image/png": "[encoded data removed]",
      "text/plain": [
       "<PIL.PngImagePlugin.PngImageFile image mode=RGB size=953x912>"
      ]
     },
     "execution_count": 11,
     "metadata": {},
     "output_type": "execute_result"
    }
   ],
   "source": [
    "agent.run(\"A diagram that shows an EC2 Cluster connected to a lambda function\")"
   ]
  },
  {
   "cell_type": "code",
   "execution_count": 12,
   "id": "d5df72c7",
   "metadata": {},
   "outputs": [
    {
     "name": "stdout",
     "output_type": "stream",
     "text": [
      "==Explanation from the agent==\n",
      "I will use the following - AWS Well-Architected Framework Query Tool because it provides direct access to AWS Well-Architected Framework to extract information.\n",
      "- Code Generation Tool because it can generate code based on the provided requirements.\n",
      "\n",
      "\n",
      "==Code generated by the agent==\n",
      "response = well_architected_tool(query=\"How can I design secure VPCs?\")\n",
      "print(f\"{response}.\")\n",
      "\n",
      "python_code = code_generation_tool(prompt=\"Write a function in Python to upload a file to Amazon S3\")\n",
      "print(f\"{python_code}\")\n",
      "\n",
      "\n",
      "==Result==\n",
      " To design secure VPCs, you should apply multiple controls with a defense in depth approach for both inbound and outbound traffic, including the use of security groups (stateful inspection firewall), Network ACLs, subnets, and route tables. Within a VPC, you can create subnets in an Availability Zone. Each subnet can have an associated route table that defines routing rules for managing the paths that traffic takes within the subnet. You can define an internet routable subnet by having a route that goes to an internet or NAT gateway attached to the VPC, or through another VPC. You should also consider using a VPN gateway to securely connect to your VPC. Additionally, you should use a combination of security groups and network ACLs to restrict access to your VPC.\n",
      "{'ans': ' To design secure VPCs, you should apply multiple controls with a defense in depth approach for both inbound and outbound traffic, including the use of security groups (stateful inspection firewall), Network ACLs, subnets, and route tables. Within a VPC, you can create subnets in an Availability Zone. Each subnet can have an associated route table that defines routing rules for managing the paths that traffic takes within the subnet. You can define an internet routable subnet by having a route that goes to an internet or NAT gateway attached to the VPC, or through another VPC. You should also consider using a VPN gateway to securely connect to your VPC. Additionally, you should use a combination of security groups and network ACLs to restrict access to your VPC.', 'docs': 'https://docs.aws.amazon.com/wellarchitected/latest/security-pillar/sec_network_protection_layered.html\\nhttps://docs.aws.amazon.com/wellarchitected/latest/framework/sec_network_protection_layered.html\\nhttps://docs.aws.amazon.com/wellarchitected/latest/framework/rel_planning_network_topology_ip_subnet_allocation.html\\nhttps://docs.aws.amazon.com/wellarchitected/latest/reliability-pillar/rel_planning_network_topology_ip_subnet_allocation.html\\n'}.\n",
      "\n",
      "\n",
      "import boto3\n",
      "\n",
      "def upload_file_to_s3(file_name, bucket, object_name=None):\n",
      "    \"\"\"Upload a file to an S3 bucket\n",
      "\n",
      "    :param file_name: File to upload\n",
      "    :param bucket: Bucket to upload to\n",
      "    :param object_name: S3 object name. If not specified then file_name is used\n",
      "    :return: True if file was uploaded, else False\n",
      "    \"\"\"\n",
      "\n",
      "    # If S3 object_name was not specified, use file_name\n",
      "    if object_name is None:\n",
      "        object_name = file_name\n",
      "\n",
      "    # Upload the file\n",
      "    s3_client = boto3.client('s3')\n",
      "    try:\n",
      "        response = s3_client.upload_file(file_name, bucket, object_name)\n",
      "    except ClientError as e:\n",
      "        logging.error(e)\n",
      "        return False\n",
      "    return True\n",
      "\n"
     ]
    },
    {
     "data": {
      "text/plain": [
       "'\\n\\nimport boto3\\n\\ndef upload_file_to_s3(file_name, bucket, object_name=None):\\n    \"\"\"Upload a file to an S3 bucket\\n\\n    :param file_name: File to upload\\n    :param bucket: Bucket to upload to\\n    :param object_name: S3 object name. If not specified then file_name is used\\n    :return: True if file was uploaded, else False\\n    \"\"\"\\n\\n    # If S3 object_name was not specified, use file_name\\n    if object_name is None:\\n        object_name = file_name\\n\\n    # Upload the file\\n    s3_client = boto3.client(\\'s3\\')\\n    try:\\n        response = s3_client.upload_file(file_name, bucket, object_name)\\n    except ClientError as e:\\n        logging.error(e)\\n        return False\\n    return True\\n'"
      ]
     },
     "execution_count": 12,
     "metadata": {},
     "output_type": "execute_result"
    }
   ],
   "source": [
    "agent.run(\"How can I design secure VPCs\")"
   ]
  },
  {
   "cell_type": "code",
   "execution_count": 13,
   "id": "59a4f048",
   "metadata": {},
   "outputs": [
    {
     "name": "stdout",
     "output_type": "stream",
     "text": [
      "==Explanation from the agent==\n",
      "I will use the following\n",
      "\n",
      "\n",
      "==Code generated by the agent==\n",
      "python_code = code_generation_tool(prompt=\"Write a function in Python to upload a file to Amazon S3\")\n",
      "print(f\"{python_code}\")\n",
      "\n",
      "\n",
      "==Result==\n",
      "\n",
      "\n",
      "import boto3\n",
      "\n",
      "def upload_file_to_s3(file_name, bucket, object_name=None):\n",
      "    \"\"\"Upload a file to an S3 bucket\n",
      "\n",
      "    :param file_name: File to upload\n",
      "    :param bucket: Bucket to upload to\n",
      "    :param object_name: S3 object name. If not specified then file_name is used\n",
      "    :return: True if file was uploaded, else False\n",
      "    \"\"\"\n",
      "\n",
      "    # If S3 object_name was not specified, use file_name\n",
      "    if object_name is None:\n",
      "        object_name = file_name\n",
      "\n",
      "    # Upload the file\n",
      "    s3_client = boto3.client('s3')\n",
      "    try:\n",
      "        response = s3_client.upload_file(file_name, bucket, object_name)\n",
      "    except ClientError as e:\n",
      "        logging.error(e)\n",
      "        return False\n",
      "    return True\n",
      "\n"
     ]
    },
    {
     "data": {
      "text/plain": [
       "'\\n\\nimport boto3\\n\\ndef upload_file_to_s3(file_name, bucket, object_name=None):\\n    \"\"\"Upload a file to an S3 bucket\\n\\n    :param file_name: File to upload\\n    :param bucket: Bucket to upload to\\n    :param object_name: S3 object name. If not specified then file_name is used\\n    :return: True if file was uploaded, else False\\n    \"\"\"\\n\\n    # If S3 object_name was not specified, use file_name\\n    if object_name is None:\\n        object_name = file_name\\n\\n    # Upload the file\\n    s3_client = boto3.client(\\'s3\\')\\n    try:\\n        response = s3_client.upload_file(file_name, bucket, object_name)\\n    except ClientError as e:\\n        logging.error(e)\\n        return False\\n    return True\\n'"
      ]
     },
     "execution_count": 13,
     "metadata": {},
     "output_type": "execute_result"
    }
   ],
   "source": [
    "agent.run(\"Write a function in Python to upload a file to Amazon S3\")"
   ]
  },
  {
   "cell_type": "code",
   "execution_count": null,
   "id": "83c82689",
   "metadata": {},
   "outputs": [],
   "source": []
  }
 ],
 "metadata": {
  "kernelspec": {
   "display_name": "Python 3 (ipykernel)",
   "language": "python",
   "name": "python3"
  },
  "language_info": {
   "codemirror_mode": {
    "name": "ipython",
    "version": 3
   },
   "file_extension": ".py",
   "mimetype": "text/x-python",
   "name": "python",
   "nbconvert_exporter": "python",
   "pygments_lexer": "ipython3",
   "version": "3.11.0"
  }
 },
 "nbformat": 4,
 "nbformat_minor": 5
}
